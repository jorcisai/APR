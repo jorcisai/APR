{
  "nbformat": 4,
  "nbformat_minor": 0,
  "metadata": {
    "colab": {
      "name": "Untitled0.ipynb",
      "provenance": [],
      "authorship_tag": "ABX9TyOyyX6zlvaGWjpQRNfbQxWs",
      "include_colab_link": true
    },
    "kernelspec": {
      "name": "python3",
      "display_name": "Python 3"
    }
  },
  "cells": [
    {
      "cell_type": "markdown",
      "metadata": {
        "id": "view-in-github",
        "colab_type": "text"
      },
      "source": [
        "<a href=\"https://colab.research.google.com/github/jorcisai/APR/blob/master/MNIST_remote_loader.ipynb\" target=\"_parent\"><img src=\"https://colab.research.google.com/assets/colab-badge.svg\" alt=\"Open In Colab\"/></a>"
      ]
    },
    {
      "cell_type": "markdown",
      "metadata": {
        "id": "OfyVV0jl6p70"
      },
      "source": [
        "# MNIST loader"
      ]
    },
    {
      "cell_type": "markdown",
      "metadata": {
        "id": "xg390LjI6QlS"
      },
      "source": [
        "Importing standard packages and tensorflow_datasets to ease data manipulation."
      ]
    },
    {
      "cell_type": "code",
      "metadata": {
        "id": "xRxl67136O6W"
      },
      "source": [
        "from __future__ import absolute_import, division, print_function, unicode_literals\n",
        "\n",
        "try:\n",
        "  # %tensorflow_version only exists in Colab.\n",
        "  %tensorflow_version 2.x\n",
        "except Exception:\n",
        "  pass\n",
        "  \n",
        "import tensorflow as tf\n",
        "import os\n",
        "\n",
        "import tensorflow_datasets as tfds"
      ],
      "execution_count": null,
      "outputs": []
    },
    {
      "cell_type": "markdown",
      "metadata": {
        "id": "K8zcmdzC74NI"
      },
      "source": [
        "Data loading from local file system. Please select original MNIST files"
      ]
    },
    {
      "cell_type": "code",
      "metadata": {
        "id": "-EwCk8dv8a6-"
      },
      "source": [
        "from google.colab import files\n",
        "\n",
        "uploaded = files.upload()\n",
        "for fn in uploaded.keys():\n",
        "  if fn==\"train-images-idx3-ubyte.gz\":\n",
        "    train_images=fn\n",
        "  elif fn==\"train-labels-idx1-ubyte.gz\":\n",
        "    train_labs=fn\n",
        "  elif fn=\"t10k-images-idx3-ubyte.gz\":\n",
        "    test_images=fn\n",
        "  elif fn=\"t10k-labels-idx1-ubyte.gz\":\n",
        "    test_labs=fn\n",
        "  else\n",
        "    print(\"Filename not expected for MNIST datasets\")\n",
        "\n",
        "print(\"Data file: \",datafn)"
      ],
      "execution_count": null,
      "outputs": []
    }
  ]
}