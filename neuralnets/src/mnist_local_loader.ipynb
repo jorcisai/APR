{
  "nbformat": 4,
  "nbformat_minor": 0,
  "metadata": {
    "colab": {
      "name": "mnist_local_loader.ipynb",
      "provenance": [],
      "authorship_tag": "ABX9TyMxszqs/C3qmG+NIpXvFmki",
      "include_colab_link": true
    },
    "kernelspec": {
      "name": "python3",
      "display_name": "Python 3"
    }
  },
  "cells": [
    {
      "cell_type": "markdown",
      "metadata": {
        "id": "view-in-github",
        "colab_type": "text"
      },
      "source": [
        "<a href=\"https://colab.research.google.com/github/jorcisai/APR/blob/master/neuralnets/src/mnist_local_loader.ipynb\" target=\"_parent\"><img src=\"https://colab.research.google.com/assets/colab-badge.svg\" alt=\"Open In Colab\"/></a>"
      ]
    },
    {
      "cell_type": "markdown",
      "metadata": {
        "id": "OfyVV0jl6p70"
      },
      "source": [
        "# MNIST loader"
      ]
    },
    {
      "cell_type": "markdown",
      "metadata": {
        "id": "xg390LjI6QlS"
      },
      "source": [
        "Importing standard packages and tensorflow_datasets to ease data manipulation."
      ]
    },
    {
      "cell_type": "code",
      "metadata": {
        "id": "xRxl67136O6W"
      },
      "source": [
        "from __future__ import absolute_import, division, print_function, unicode_literals\n",
        "\n",
        "try:\n",
        "  # %tensorflow_version only exists in Colab.\n",
        "  %tensorflow_version 2.x\n",
        "except Exception:\n",
        "  pass\n",
        "  \n",
        "import tensorflow as tf\n",
        "import os\n",
        "\n",
        "import tensorflow_datasets as tfds"
      ],
      "execution_count": 5,
      "outputs": []
    },
    {
      "cell_type": "markdown",
      "metadata": {
        "id": "K8zcmdzC74NI"
      },
      "source": [
        "First, you need to upload mnist_dataset.py and original MNIST data files from your drive"
      ]
    },
    {
      "cell_type": "code",
      "metadata": {
        "id": "-EwCk8dv8a6-"
      },
      "source": [
        "from google.colab import files\n",
        "\n",
        "uploaded = files.upload()"
      ],
      "execution_count": null,
      "outputs": []
    },
    {
      "cell_type": "markdown",
      "metadata": {
        "id": "S6A7FYCgStpr"
      },
      "source": [
        "Loading training and test images and labs from array into dataset object. Then, creating pairs of (image,label)"
      ]
    },
    {
      "cell_type": "code",
      "metadata": {
        "id": "JJbnn_drRK14"
      },
      "source": [
        "from mnist_dataset import get_mnist\n",
        "\n",
        "(X, xl), (Y, yl) = get_mnist(\"./\").load_data()\n",
        "N = X.shape[0]\n",
        "C = len(set(xl))\n",
        "Xdat   = tf.data.Dataset.from_tensor_slices(X)\n",
        "xldat  = tf.data.Dataset.from_tensor_slices(xl)\n",
        "Xxldat = tf.data.Dataset.zip((Xdat, xldat))\n",
        "Ydat   = tf.data.Dataset.from_tensor_slices(Y)\n",
        "yldat  = tf.data.Dataset.from_tensor_slices(yl)\n",
        "Yyldat = tf.data.Dataset.zip((Ydat, yldat))"
      ],
      "execution_count": 27,
      "outputs": []
    },
    {
      "cell_type": "markdown",
      "metadata": {
        "id": "eTqI2gquTIsE"
      },
      "source": [
        "Taking a look at a couple of training images and labels after being converted into dataset type."
      ]
    },
    {
      "cell_type": "code",
      "metadata": {
        "id": "KOFxPVijLA9D"
      },
      "source": [
        "for (image,label) in Xxldat.take(1):\n",
        "  print(label)\n",
        "  print(image)"
      ],
      "execution_count": null,
      "outputs": []
    },
    {
      "cell_type": "markdown",
      "metadata": {
        "id": "n8-tYe8lT0n4"
      },
      "source": [
        "# Experimental design"
      ]
    },
    {
      "cell_type": "markdown",
      "metadata": {
        "id": "GMAVR0R2T3sa"
      },
      "source": [
        "Use tf.data.Dataset.take and tf.data.Dataset.skip to split training dataset into 90% for training and 10% for dev.\n",
        "\n",
        "Before being passed into the model, the datasets need to be shuffled and batched. So, first, the complete dataset is shuffled with a fixed seed so that we can repeat the same shuffle of the dataset, then the dataset is split into training, validation and test, and each of these subsets is batched."
      ]
    },
    {
      "cell_type": "code",
      "metadata": {
        "id": "9RakkD8oOyyv"
      },
      "source": [
        "Ntr = round(N*0.9)\n",
        "Ndv = N-Ntr\n",
        "Nbatch = 100\n",
        "\n",
        "Xxldat = Xxldat.shuffle(N,seed=13)\n",
        "\n",
        "Xxltr = Xxldat.take(Ntr)\n",
        "Xxltr = Xxltr.batch(Nbatch)\n",
        "Xxldv = Xxldat.skip(Ntr).take(Ndv)\n",
        "Xxldv = Xxldv.batch(Nbatch)\n",
        "Yylte = Yyldat.batch(Nbatch)"
      ],
      "execution_count": 29,
      "outputs": []
    },
    {
      "cell_type": "markdown",
      "metadata": {
        "id": "wyMGwsBaSKE4"
      },
      "source": [
        "# Build the model"
      ]
    },
    {
      "cell_type": "markdown",
      "metadata": {
        "id": "jpvWxp08SS6w"
      },
      "source": [
        "Create an empty model and add layers to it."
      ]
    },
    {
      "cell_type": "code",
      "metadata": {
        "id": "zwZo0fDBSOaL"
      },
      "source": [
        "model = tf.keras.Sequential()"
      ],
      "execution_count": 30,
      "outputs": []
    },
    {
      "cell_type": "markdown",
      "metadata": {
        "id": "5Pj9iba8Slp0"
      },
      "source": [
        "We'll have a series of one or more densely connected layers, with the last one being the output layer. The output layer produces a probability for all the labels. The one with the highest probability is the models prediction of an example's label."
      ]
    },
    {
      "cell_type": "code",
      "metadata": {
        "id": "0wG-FsAcSkBD"
      },
      "source": [
        "# One or more dense layers.\n",
        "# Edit the list in the `for` line to experiment with layer sizes.\n",
        "for units in [16, 16]:\n",
        "  model.add(tf.keras.layers.Dense(units, activation='relu'))\n",
        "\n",
        "# Output layer. The first argument is the number of labels.\n",
        "model.add(tf.keras.layers.Dense(C, activation='softmax'))"
      ],
      "execution_count": 31,
      "outputs": []
    },
    {
      "cell_type": "markdown",
      "metadata": {
        "id": "LMvOheZ3TwUO"
      },
      "source": [
        "Finally, compile the model. For a softmax categorization model, use sparse_categorical_crossentropy as the loss function. You can try other optimizers, but adam is very common."
      ]
    },
    {
      "cell_type": "code",
      "metadata": {
        "id": "8sy6lCQ9T7wE"
      },
      "source": [
        "model.compile(optimizer='adam',\n",
        "              loss='sparse_categorical_crossentropy',\n",
        "              metrics=['accuracy'])"
      ],
      "execution_count": 32,
      "outputs": []
    },
    {
      "cell_type": "markdown",
      "metadata": {
        "id": "ji73f6Y1UBXY"
      },
      "source": [
        "# Train the model"
      ]
    },
    {
      "cell_type": "markdown",
      "metadata": {
        "id": "8U4YX_HZUEWk"
      },
      "source": [
        "This model running for 10 epochs on this data produces decent results"
      ]
    },
    {
      "cell_type": "code",
      "metadata": {
        "id": "AQyGoBT4UU2s",
        "outputId": "0244b5c2-e92c-48ef-e4da-392d85403bc5",
        "colab": {
          "base_uri": "https://localhost:8080/"
        }
      },
      "source": [
        "model.fit(Xxltr, epochs=10, validation_data=Xxldv)"
      ],
      "execution_count": 33,
      "outputs": [
        {
          "output_type": "stream",
          "text": [
            "Epoch 1/10\n",
            "540/540 [==============================] - 1s 3ms/step - loss: 2.7265 - accuracy: 0.2250 - val_loss: 1.8890 - val_accuracy: 0.2767\n",
            "Epoch 2/10\n",
            "540/540 [==============================] - 1s 3ms/step - loss: 1.7473 - accuracy: 0.3382 - val_loss: 1.5579 - val_accuracy: 0.3938\n",
            "Epoch 3/10\n",
            "540/540 [==============================] - 1s 3ms/step - loss: 1.4422 - accuracy: 0.4189 - val_loss: 1.3572 - val_accuracy: 0.4520\n",
            "Epoch 4/10\n",
            "540/540 [==============================] - 1s 2ms/step - loss: 1.2520 - accuracy: 0.4767 - val_loss: 1.1797 - val_accuracy: 0.4955\n",
            "Epoch 5/10\n",
            "540/540 [==============================] - 1s 2ms/step - loss: 1.1495 - accuracy: 0.5227 - val_loss: 1.1140 - val_accuracy: 0.5483\n",
            "Epoch 6/10\n",
            "540/540 [==============================] - 1s 2ms/step - loss: 1.0611 - accuracy: 0.5745 - val_loss: 1.0181 - val_accuracy: 0.5812\n",
            "Epoch 7/10\n",
            "540/540 [==============================] - 1s 3ms/step - loss: 1.0059 - accuracy: 0.6010 - val_loss: 0.9569 - val_accuracy: 0.6163\n",
            "Epoch 8/10\n",
            "540/540 [==============================] - 1s 3ms/step - loss: 0.9668 - accuracy: 0.6195 - val_loss: 0.9377 - val_accuracy: 0.6340\n",
            "Epoch 9/10\n",
            "540/540 [==============================] - 1s 2ms/step - loss: 0.9382 - accuracy: 0.6337 - val_loss: 0.9275 - val_accuracy: 0.6267\n",
            "Epoch 10/10\n",
            "540/540 [==============================] - 1s 2ms/step - loss: 0.9045 - accuracy: 0.6647 - val_loss: 0.8352 - val_accuracy: 0.6878\n"
          ],
          "name": "stdout"
        },
        {
          "output_type": "execute_result",
          "data": {
            "text/plain": [
              "<tensorflow.python.keras.callbacks.History at 0x7f128ec4ee80>"
            ]
          },
          "metadata": {
            "tags": []
          },
          "execution_count": 33
        }
      ]
    },
    {
      "cell_type": "code",
      "metadata": {
        "id": "EbiuztlcY6tg",
        "outputId": "267ec06d-4347-411d-f28c-986aceb003d7",
        "colab": {
          "base_uri": "https://localhost:8080/"
        }
      },
      "source": [
        "ls"
      ],
      "execution_count": 3,
      "outputs": [
        {
          "output_type": "stream",
          "text": [
            "\u001b[0m\u001b[01;34msample_data\u001b[0m/\n"
          ],
          "name": "stdout"
        }
      ]
    }
  ]
}