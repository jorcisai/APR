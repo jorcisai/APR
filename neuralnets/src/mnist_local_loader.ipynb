{
  "nbformat": 4,
  "nbformat_minor": 0,
  "metadata": {
    "colab": {
      "name": "mnist_local_loader.ipynb",
      "provenance": [],
      "authorship_tag": "ABX9TyPcHBrCIRHvArOJUbTgCrXC",
      "include_colab_link": true
    },
    "kernelspec": {
      "name": "python3",
      "display_name": "Python 3"
    }
  },
  "cells": [
    {
      "cell_type": "markdown",
      "metadata": {
        "id": "view-in-github",
        "colab_type": "text"
      },
      "source": [
        "<a href=\"https://colab.research.google.com/github/jorcisai/APR/blob/master/neuralnets/src/mnist_local_loader.ipynb\" target=\"_parent\"><img src=\"https://colab.research.google.com/assets/colab-badge.svg\" alt=\"Open In Colab\"/></a>"
      ]
    },
    {
      "cell_type": "markdown",
      "metadata": {
        "id": "OfyVV0jl6p70"
      },
      "source": [
        "# MNIST loader"
      ]
    },
    {
      "cell_type": "markdown",
      "metadata": {
        "id": "xg390LjI6QlS"
      },
      "source": [
        "Importing standard packages and tensorflow_datasets to ease data manipulation."
      ]
    },
    {
      "cell_type": "code",
      "metadata": {
        "id": "xRxl67136O6W"
      },
      "source": [
        "from __future__ import absolute_import, division, print_function, unicode_literals\n",
        "\n",
        "try:\n",
        "  # %tensorflow_version only exists in Colab.\n",
        "  %tensorflow_version 2.x\n",
        "except Exception:\n",
        "  pass\n",
        "  \n",
        "import tensorflow as tf\n",
        "import os\n",
        "\n",
        "import tensorflow_datasets as tfds"
      ],
      "execution_count": 5,
      "outputs": []
    },
    {
      "cell_type": "markdown",
      "metadata": {
        "id": "K8zcmdzC74NI"
      },
      "source": [
        "First, you need to upload mnist_dataset.py and original MNIST data files from your drive"
      ]
    },
    {
      "cell_type": "code",
      "metadata": {
        "id": "-EwCk8dv8a6-"
      },
      "source": [
        "from google.colab import files\n",
        "\n",
        "uploaded = files.upload()"
      ],
      "execution_count": null,
      "outputs": []
    },
    {
      "cell_type": "markdown",
      "metadata": {
        "id": "S6A7FYCgStpr"
      },
      "source": [
        "Loading training and test images and labs from array into dataset object. Then, creating pairs of (image,label)"
      ]
    },
    {
      "cell_type": "code",
      "metadata": {
        "id": "JJbnn_drRK14"
      },
      "source": [
        "from mnist_dataset import get_mnist\n",
        "\n",
        "(X, xl), (Y, yl) = get_mnist(\"./\").load_data()\n",
        "N = X.shape[0]\n",
        "C = len(set(xl))\n",
        "Xdat   = tf.data.Dataset.from_tensor_slices(X)\n",
        "xldat  = tf.data.Dataset.from_tensor_slices(xl)\n",
        "Xxldat = tf.data.Dataset.zip((Xdat, xldat))\n",
        "Ydat   = tf.data.Dataset.from_tensor_slices(Y)\n",
        "yldat  = tf.data.Dataset.from_tensor_slices(yl)\n",
        "Yyldat = tf.data.Dataset.zip((Ydat, yldat))"
      ],
      "execution_count": 27,
      "outputs": []
    },
    {
      "cell_type": "markdown",
      "metadata": {
        "id": "eTqI2gquTIsE"
      },
      "source": [
        "Taking a look at a couple of training images and labels after being converted into dataset type."
      ]
    },
    {
      "cell_type": "code",
      "metadata": {
        "id": "KOFxPVijLA9D"
      },
      "source": [
        "print(N,C)\n",
        "for (image,label) in Xxldat.take(1):\n",
        "  print(label)\n",
        "  print(image)"
      ],
      "execution_count": null,
      "outputs": []
    },
    {
      "cell_type": "markdown",
      "metadata": {
        "id": "n8-tYe8lT0n4"
      },
      "source": [
        "# Experimental design"
      ]
    },
    {
      "cell_type": "markdown",
      "metadata": {
        "id": "GMAVR0R2T3sa"
      },
      "source": [
        "Use tf.data.Dataset.take and tf.data.Dataset.skip to split training dataset into 90% for training and 10% for dev.\n",
        "\n",
        "Before being passed into the model, the datasets need to be shuffled and batched. So, first, the complete dataset is shuffled with a fixed seed so that we can repeat the same shuffle of the dataset, then the dataset is split into training, validation and test, and each of these subsets is batched."
      ]
    },
    {
      "cell_type": "code",
      "metadata": {
        "id": "9RakkD8oOyyv"
      },
      "source": [
        "Ntr = round(N*0.9)\n",
        "Ndv = N-Ntr\n",
        "Nbatch = 1000\n",
        "\n",
        "Xxldat = Xxldat.shuffle(N,seed=13)\n",
        "\n",
        "Xxltr = Xxldat.take(Ntr)\n",
        "Xxltr = Xxltr.batch(Nbatch)\n",
        "Xxldv = Xxldat.skip(Ntr).take(Ndv)\n",
        "Xxldv = Xxldv.batch(Nbatch)\n",
        "Yylte = Yyldat.batch(Nbatch)"
      ],
      "execution_count": 42,
      "outputs": []
    },
    {
      "cell_type": "markdown",
      "metadata": {
        "id": "wyMGwsBaSKE4"
      },
      "source": [
        "# Build the model"
      ]
    },
    {
      "cell_type": "markdown",
      "metadata": {
        "id": "jpvWxp08SS6w"
      },
      "source": [
        "Create an empty model and add layers to it."
      ]
    },
    {
      "cell_type": "code",
      "metadata": {
        "id": "zwZo0fDBSOaL"
      },
      "source": [
        "model = tf.keras.Sequential()"
      ],
      "execution_count": 60,
      "outputs": []
    },
    {
      "cell_type": "markdown",
      "metadata": {
        "id": "5Pj9iba8Slp0"
      },
      "source": [
        "We'll have a series of one or more densely connected layers, with the last one being the output layer. The output layer produces a probability for all the labels. The one with the highest probability is the models prediction of an example's label."
      ]
    },
    {
      "cell_type": "code",
      "metadata": {
        "id": "0wG-FsAcSkBD"
      },
      "source": [
        "# One or more dense layers.\n",
        "# Edit the list in the `for` line to experiment with layer sizes.\n",
        "for units in [800]:\n",
        "  model.add(tf.keras.layers.Dense(units, activation='relu'))\n",
        "\n",
        "# Output layer. The first argument is the number of labels.\n",
        "model.add(tf.keras.layers.Dense(C, activation='softmax'))"
      ],
      "execution_count": 61,
      "outputs": []
    },
    {
      "cell_type": "markdown",
      "metadata": {
        "id": "LMvOheZ3TwUO"
      },
      "source": [
        "Finally, compile the model. For a softmax categorization model, use sparse_categorical_crossentropy as the loss function. You can try other optimizers, but adam is very common."
      ]
    },
    {
      "cell_type": "code",
      "metadata": {
        "id": "8sy6lCQ9T7wE"
      },
      "source": [
        "model.compile(optimizer='adam',\n",
        "              loss='sparse_categorical_crossentropy',\n",
        "              metrics=['accuracy'])"
      ],
      "execution_count": 62,
      "outputs": []
    },
    {
      "cell_type": "markdown",
      "metadata": {
        "id": "ji73f6Y1UBXY"
      },
      "source": [
        "# Train the model"
      ]
    },
    {
      "cell_type": "markdown",
      "metadata": {
        "id": "8U4YX_HZUEWk"
      },
      "source": [
        "This model running for 10 epochs on this data produces decent results"
      ]
    },
    {
      "cell_type": "code",
      "metadata": {
        "id": "AQyGoBT4UU2s",
        "outputId": "923934cf-f688-4022-de0c-54aa7d35185d",
        "colab": {
          "base_uri": "https://localhost:8080/"
        }
      },
      "source": [
        "model.fit(Xxltr, epochs=10, validation_data=Xxldv)"
      ],
      "execution_count": 63,
      "outputs": [
        {
          "output_type": "stream",
          "text": [
            "Epoch 1/20\n",
            "54/54 [==============================] - 4s 65ms/step - loss: 23.8135 - accuracy: 0.8162 - val_loss: 3.2008 - val_accuracy: 0.9257\n",
            "Epoch 2/20\n",
            "54/54 [==============================] - 3s 63ms/step - loss: 2.1980 - accuracy: 0.9366 - val_loss: 1.1313 - val_accuracy: 0.9533\n",
            "Epoch 3/20\n",
            "54/54 [==============================] - 3s 63ms/step - loss: 1.0259 - accuracy: 0.9544 - val_loss: 0.4965 - val_accuracy: 0.9667\n",
            "Epoch 4/20\n",
            "54/54 [==============================] - 3s 63ms/step - loss: 0.5837 - accuracy: 0.9662 - val_loss: 0.3667 - val_accuracy: 0.9748\n",
            "Epoch 5/20\n",
            "54/54 [==============================] - 3s 63ms/step - loss: 0.3818 - accuracy: 0.9734 - val_loss: 0.2775 - val_accuracy: 0.9810\n",
            "Epoch 6/20\n",
            "54/54 [==============================] - 3s 64ms/step - loss: 0.2557 - accuracy: 0.9795 - val_loss: 0.1454 - val_accuracy: 0.9868\n",
            "Epoch 7/20\n",
            "54/54 [==============================] - 3s 64ms/step - loss: 0.1693 - accuracy: 0.9838 - val_loss: 0.0944 - val_accuracy: 0.9887\n",
            "Epoch 8/20\n",
            "54/54 [==============================] - 3s 63ms/step - loss: 0.1043 - accuracy: 0.9885 - val_loss: 0.0667 - val_accuracy: 0.9913\n",
            "Epoch 9/20\n",
            "54/54 [==============================] - 3s 65ms/step - loss: 0.0721 - accuracy: 0.9911 - val_loss: 0.0375 - val_accuracy: 0.9945\n",
            "Epoch 10/20\n",
            "54/54 [==============================] - 3s 65ms/step - loss: 0.0538 - accuracy: 0.9923 - val_loss: 0.0286 - val_accuracy: 0.9953\n",
            "Epoch 11/20\n",
            "54/54 [==============================] - 3s 64ms/step - loss: 0.0340 - accuracy: 0.9945 - val_loss: 0.0225 - val_accuracy: 0.9958\n",
            "Epoch 12/20\n",
            "54/54 [==============================] - 3s 64ms/step - loss: 0.0318 - accuracy: 0.9942 - val_loss: 0.0276 - val_accuracy: 0.9952\n",
            "Epoch 13/20\n",
            "54/54 [==============================] - 3s 64ms/step - loss: 0.0397 - accuracy: 0.9940 - val_loss: 0.0266 - val_accuracy: 0.9955\n",
            "Epoch 14/20\n",
            "54/54 [==============================] - 3s 63ms/step - loss: 0.0291 - accuracy: 0.9948 - val_loss: 0.0281 - val_accuracy: 0.9958\n",
            "Epoch 15/20\n",
            "54/54 [==============================] - 3s 63ms/step - loss: 0.0283 - accuracy: 0.9951 - val_loss: 0.0134 - val_accuracy: 0.9967\n",
            "Epoch 16/20\n",
            "54/54 [==============================] - 3s 63ms/step - loss: 0.0216 - accuracy: 0.9963 - val_loss: 0.0142 - val_accuracy: 0.9973\n",
            "Epoch 17/20\n",
            "54/54 [==============================] - 3s 63ms/step - loss: 0.0124 - accuracy: 0.9978 - val_loss: 0.0058 - val_accuracy: 0.9985\n",
            "Epoch 18/20\n",
            "54/54 [==============================] - 3s 64ms/step - loss: 0.0149 - accuracy: 0.9971 - val_loss: 0.0143 - val_accuracy: 0.9965\n",
            "Epoch 19/20\n",
            "54/54 [==============================] - 3s 63ms/step - loss: 0.0122 - accuracy: 0.9976 - val_loss: 0.0189 - val_accuracy: 0.9970\n",
            "Epoch 20/20\n",
            "54/54 [==============================] - 3s 64ms/step - loss: 0.0179 - accuracy: 0.9971 - val_loss: 0.0255 - val_accuracy: 0.9965\n"
          ],
          "name": "stdout"
        },
        {
          "output_type": "execute_result",
          "data": {
            "text/plain": [
              "<tensorflow.python.keras.callbacks.History at 0x7f1286ad3898>"
            ]
          },
          "metadata": {
            "tags": []
          },
          "execution_count": 63
        }
      ]
    },
    {
      "cell_type": "markdown",
      "metadata": {
        "id": "DuNcFj-iyKYN"
      },
      "source": [
        "# Evaluate the model"
      ]
    },
    {
      "cell_type": "markdown",
      "metadata": {
        "id": "Y_vhoe1eyYcO"
      },
      "source": [
        "Compute accuracy on the test set (accuracy 98.6%)"
      ]
    },
    {
      "cell_type": "code",
      "metadata": {
        "id": "lkN1Sb-tyeVA",
        "outputId": "01bafaba-634e-4251-897b-f15e735b5fa8",
        "colab": {
          "base_uri": "https://localhost:8080/"
        }
      },
      "source": [
        "loss_te, acc_te = model.evaluate(Yylte)\n",
        "\n",
        "print('\\nEval loss: {:.3f}, Eval accuracy: {:.3f}'.format(loss_te, acc_te))"
      ],
      "execution_count": 64,
      "outputs": [
        {
          "output_type": "stream",
          "text": [
            "10/10 [==============================] - 0s 29ms/step - loss: 0.6859 - accuracy: 0.9691\n",
            "\n",
            "Eval loss: 0.686, Eval accuracy: 0.969\n"
          ],
          "name": "stdout"
        }
      ]
    }
  ]
}