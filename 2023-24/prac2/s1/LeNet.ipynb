{
 "cells": [
  {
   "cell_type": "markdown",
   "metadata": {},
   "source": [
    "# Primera red convolucional para MNIST: LeNet"
   ]
  },
  {
   "cell_type": "markdown",
   "metadata": {},
   "source": [
    "Como en la anterior práctica, primero importamos el conjunto de MNIST y lo normalizamos, pero sin convertir las imágenes en vectores unidimensionales "
   ]
  },
  {
   "cell_type": "code",
   "execution_count": 2,
   "metadata": {},
   "outputs": [
    {
     "name": "stdout",
     "output_type": "stream",
     "text": [
      "training set (60000, 28, 28)\n",
      "test set (10000, 28, 28)\n"
     ]
    }
   ],
   "source": [
    "from tensorflow import keras\n",
    "from keras.datasets import mnist\n",
    "\n",
    "(x_train, y_train), (x_test, y_test) = mnist.load_data()\n",
    "\n",
    "print('training set', x_train.shape)\n",
    "print('test set', x_test.shape)\n",
    "\n",
    "x_train = x_train.astype('float32')\n",
    "x_test = x_test.astype('float32')\n",
    "\n",
    "# Normalize [0..255]-->[0..1]\n",
    "x_train /= 255\n",
    "x_test /= 255\n",
    "\n",
    "# convert class vectors to binary class matrices\n",
    "num_classes=10\n",
    "y_train = keras.utils.to_categorical(y_train, num_classes)\n",
    "y_test = keras.utils.to_categorical(y_test, num_classes)"
   ]
  },
  {
   "cell_type": "markdown",
   "metadata": {},
   "source": [
    "#  LeNet\n",
    "\n",
    "**LeNet (1998):** $\\;$ CNN de Yann LeCun para MNIST\n",
    "\n",
    "<div align=\"center\">\n",
    "<table><tr>\n",
    "<td style=\"border: none;\"><img src=\"LeNet.png\" width=300/></td>\n",
    "<td style=\"border: none;\"><img src=\"Figure_14.15.png\" width=800/></td>\n",
    "</tr></table>\n",
    "</div>"
   ]
  },
  {
   "cell_type": "markdown",
   "metadata": {},
   "source": [
    "**Ejemplo:** $\\;$ LeNet con terminación temprana (paciencia 2)"
   ]
  },
  {
   "cell_type": "code",
   "execution_count": 15,
   "metadata": {},
   "outputs": [
    {
     "name": "stdout",
     "output_type": "stream",
     "text": [
      "Model: \"sequential_3\"\n",
      "_________________________________________________________________\n",
      " Layer (type)                Output Shape              Param #   \n",
      "=================================================================\n",
      " conv2d_5 (Conv2D)           (None, 24, 24, 6)         156       \n",
      "                                                                 \n",
      " average_pooling2d_4 (Avera  (None, 12, 12, 6)         0         \n",
      " gePooling2D)                                                    \n",
      "                                                                 \n",
      " conv2d_6 (Conv2D)           (None, 8, 8, 16)          2416      \n",
      "                                                                 \n",
      " average_pooling2d_5 (Avera  (None, 4, 4, 16)          0         \n",
      " gePooling2D)                                                    \n",
      "                                                                 \n",
      " flatten_2 (Flatten)         (None, 256)               0         \n",
      "                                                                 \n",
      " dense_6 (Dense)             (None, 120)               30840     \n",
      "                                                                 \n",
      " dense_7 (Dense)             (None, 84)                10164     \n",
      "                                                                 \n",
      " dense_8 (Dense)             (None, 10)                850       \n",
      "                                                                 \n",
      "=================================================================\n",
      "Total params: 44426 (173.54 KB)\n",
      "Trainable params: 44426 (173.54 KB)\n",
      "Non-trainable params: 0 (0.00 Byte)\n",
      "_________________________________________________________________\n"
     ]
    }
   ],
   "source": [
    "from keras import Sequential\n",
    "from keras.layers import Input,Conv2D, AveragePooling2D, Flatten, Dense\n",
    "\n",
    "model = Sequential()\n",
    "\n",
    "model.add(Input((28,28,1)))\n",
    "model.add(Conv2D(filters=6, kernel_size=(5,5), activation='tanh', input_shape=(28,28,1)))\n",
    "model.add(AveragePooling2D(pool_size=(2,2), strides=2))\n",
    "model.add(Conv2D(filters=16, kernel_size=(5,5), activation='tanh'))\n",
    "model.add(AveragePooling2D(pool_size=(2,2), strides=2))\n",
    "model.add(Flatten())\n",
    "model.add(Dense(units=120, activation='tanh'))\n",
    "model.add(Dense(units=84, activation='tanh'))\n",
    "model.add(Dense(units=10, activation = 'softmax'))\n",
    "\n",
    "model.summary()"
   ]
  },
  {
   "cell_type": "markdown",
   "metadata": {},
   "source": [
    "El summary del modelo nos lista las diferentes capas del mismo así como su número de parámetros."
   ]
  },
  {
   "cell_type": "code",
   "execution_count": 18,
   "metadata": {},
   "outputs": [
    {
     "name": "stdout",
     "output_type": "stream",
     "text": [
      "You must install pydot (`pip install pydot`) and install graphviz (see instructions at https://graphviz.gitlab.io/download/) for plot_model to work.\n"
     ]
    }
   ],
   "source": [
    "keras.utils.plot_model(model, to_file=\"model.png\")"
   ]
  },
  {
   "cell_type": "markdown",
   "metadata": {},
   "source": [
    "## Compilar el modelo"
   ]
  },
  {
   "cell_type": "code",
   "execution_count": 24,
   "metadata": {},
   "outputs": [],
   "source": [
    "from keras.optimizers import SGD\n",
    "\n",
    "sgd=SGD(learning_rate=0.1)\n",
    "\n",
    "# Compile Model\n",
    "model.compile(loss='categorical_crossentropy',\n",
    "              optimizer=sgd,\n",
    "              metrics=['accuracy'])s\n"
   ]
  },
  {
   "cell_type": "code",
   "execution_count": 26,
   "metadata": {},
   "outputs": [
    {
     "name": "stdout",
     "output_type": "stream",
     "text": [
      "Epoch 1/25\n",
      "1875/1875 [==============================] - 4s 2ms/step - loss: 0.0014 - accuracy: 0.9999 - val_loss: 0.0296 - val_accuracy: 0.9904\n",
      "Epoch 2/25\n",
      "1875/1875 [==============================] - 5s 2ms/step - loss: 0.0013 - accuracy: 0.9999 - val_loss: 0.0308 - val_accuracy: 0.9901\n",
      "Epoch 3/25\n",
      "1875/1875 [==============================] - 5s 3ms/step - loss: 0.0011 - accuracy: 0.9999 - val_loss: 0.0305 - val_accuracy: 0.9901\n",
      "Epoch 4/25\n",
      "1875/1875 [==============================] - 5s 3ms/step - loss: 0.0010 - accuracy: 0.9999 - val_loss: 0.0310 - val_accuracy: 0.9901\n",
      "Epoch 5/25\n",
      "1875/1875 [==============================] - 5s 2ms/step - loss: 9.5708e-04 - accuracy: 0.9999 - val_loss: 0.0317 - val_accuracy: 0.9904\n",
      "Epoch 6/25\n",
      "1875/1875 [==============================] - 4s 2ms/step - loss: 8.9065e-04 - accuracy: 0.9999 - val_loss: 0.0310 - val_accuracy: 0.9906\n",
      "Epoch 7/25\n",
      "1875/1875 [==============================] - 4s 2ms/step - loss: 7.9658e-04 - accuracy: 0.9999 - val_loss: 0.0332 - val_accuracy: 0.9900\n",
      "Epoch 8/25\n",
      "1875/1875 [==============================] - 4s 2ms/step - loss: 8.0099e-04 - accuracy: 0.9999 - val_loss: 0.0319 - val_accuracy: 0.9901\n",
      "Epoch 9/25\n",
      "1875/1875 [==============================] - 4s 2ms/step - loss: 6.7692e-04 - accuracy: 1.0000 - val_loss: 0.0313 - val_accuracy: 0.9906\n",
      "Epoch 10/25\n",
      "1875/1875 [==============================] - 4s 2ms/step - loss: 6.4378e-04 - accuracy: 1.0000 - val_loss: 0.0312 - val_accuracy: 0.9907\n",
      "Epoch 11/25\n",
      "1875/1875 [==============================] - 4s 2ms/step - loss: 6.2964e-04 - accuracy: 1.0000 - val_loss: 0.0323 - val_accuracy: 0.9906\n",
      "Epoch 12/25\n",
      "1875/1875 [==============================] - 4s 2ms/step - loss: 5.5618e-04 - accuracy: 1.0000 - val_loss: 0.0327 - val_accuracy: 0.9903\n",
      "Epoch 13/25\n",
      "1875/1875 [==============================] - 4s 2ms/step - loss: 5.5154e-04 - accuracy: 1.0000 - val_loss: 0.0327 - val_accuracy: 0.9905\n",
      "Epoch 14/25\n",
      "1875/1875 [==============================] - 4s 2ms/step - loss: 5.1516e-04 - accuracy: 1.0000 - val_loss: 0.0319 - val_accuracy: 0.9905\n",
      "Epoch 15/25\n",
      "1875/1875 [==============================] - 4s 2ms/step - loss: 4.7646e-04 - accuracy: 1.0000 - val_loss: 0.0328 - val_accuracy: 0.9903\n",
      "Epoch 16/25\n",
      "1875/1875 [==============================] - 4s 2ms/step - loss: 4.7938e-04 - accuracy: 1.0000 - val_loss: 0.0329 - val_accuracy: 0.9905\n",
      "Epoch 17/25\n",
      "1875/1875 [==============================] - 4s 2ms/step - loss: 4.5019e-04 - accuracy: 1.0000 - val_loss: 0.0332 - val_accuracy: 0.9904\n",
      "Epoch 18/25\n",
      "1875/1875 [==============================] - 4s 2ms/step - loss: 4.4836e-04 - accuracy: 1.0000 - val_loss: 0.0337 - val_accuracy: 0.9904\n",
      "Epoch 19/25\n",
      "1875/1875 [==============================] - 4s 2ms/step - loss: 4.1385e-04 - accuracy: 1.0000 - val_loss: 0.0330 - val_accuracy: 0.9907\n",
      "Epoch 20/25\n",
      "1875/1875 [==============================] - 4s 2ms/step - loss: 3.9953e-04 - accuracy: 1.0000 - val_loss: 0.0330 - val_accuracy: 0.9906\n",
      "Epoch 21/25\n",
      "1875/1875 [==============================] - 4s 2ms/step - loss: 3.7396e-04 - accuracy: 1.0000 - val_loss: 0.0337 - val_accuracy: 0.9905\n",
      "Epoch 22/25\n",
      "1875/1875 [==============================] - 4s 2ms/step - loss: 3.6150e-04 - accuracy: 1.0000 - val_loss: 0.0332 - val_accuracy: 0.9907\n",
      "Epoch 23/25\n",
      "1875/1875 [==============================] - 4s 2ms/step - loss: 3.5139e-04 - accuracy: 1.0000 - val_loss: 0.0335 - val_accuracy: 0.9909\n",
      "Epoch 24/25\n",
      "1875/1875 [==============================] - 4s 2ms/step - loss: 3.3006e-04 - accuracy: 1.0000 - val_loss: 0.0342 - val_accuracy: 0.9906\n",
      "Epoch 25/25\n",
      "1875/1875 [==============================] - 4s 2ms/step - loss: 3.2623e-04 - accuracy: 1.0000 - val_loss: 0.0337 - val_accuracy: 0.9910\n"
     ]
    }
   ],
   "source": [
    "batch_size=32\n",
    "epochs=25\n",
    "\n",
    "H = model.fit(x_train, y_train,\n",
    "                    batch_size=batch_size,\n",
    "                    epochs=epochs,\n",
    "                    verbose=1,\n",
    "                    validation_data=(x_test, y_test))"
   ]
  },
  {
   "cell_type": "code",
   "execution_count": 34,
   "metadata": {},
   "outputs": [
    {
     "data": {
      "image/png": "[encoded data removed]",
      "text/plain": [
       "<Figure size 1200x500 with 2 Axes>"
      ]
     },
     "metadata": {},
     "output_type": "display_data"
    }
   ],
   "source": [
    "import numpy as np; import matplotlib.pyplot as plt\n",
    "fig, axes = plt.subplots(1, 2, figsize=(12, 5))\n",
    "xx = np.arange(1, len(H.history['loss'])+1)\n",
    "xticks = np.concatenate((np.array([1]), np.arange(5, len(H.history['loss'])+1, 5)))\n",
    "ax = axes[0]; ax.grid(); ax.set_xlabel('epoch'); ax.set_ylabel('loss');\n",
    "ax.set_xticks(xticks)\n",
    "ax.plot(xx, H.history['loss'], color='b', marker='s', label='train')\n",
    "ax.plot(xx, H.history['val_loss'], color='r', marker='x', label='val'); ax.legend()\n",
    "ax = axes[1]; ax.grid(); ax.set_xlabel('epoch'); ax.set_ylabel('accuracy')\n",
    "ax.set_xticks(xticks); ax.set_yticks(np.arange(.98, 1.01, .01)); ax.set_ylim([.98, 1.01])\n",
    "ax.plot(xx, H.history['accuracy'], color='b', marker='s', label='train')\n",
    "ax.plot(xx, H.history['val_accuracy'], color='r', marker='x', label='val'); ax.legend();"
   ]
  }
 ],
 "metadata": {
  "kernelspec": {
   "display_name": "Python 3",
   "language": "python",
   "name": "python3"
  },
  "language_info": {
   "codemirror_mode": {
    "name": "ipython",
    "version": 3
   },
   "file_extension": ".py",
   "mimetype": "text/x-python",
   "name": "python",
   "nbconvert_exporter": "python",
   "pygments_lexer": "ipython3",
   "version": "3.10.12"
  },
  "orig_nbformat": 4
 },
 "nbformat": 4,
 "nbformat_minor": 2
}
